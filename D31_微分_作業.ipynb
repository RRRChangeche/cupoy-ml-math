{
 "cells": [
  {
   "cell_type": "raw",
   "id": "a22d6258-d1b9-436c-8d0f-fe5ffdab38c3",
   "metadata": {},
   "source": [
    "作業目的 : 了解如何把極限的概念應用在微分。\n",
    "    \n",
    "作業題目 : 為甚麼我們可以把下列的 (a) 式轉為 (b) 式?"
   ]
  },
  {
   "cell_type": "markdown",
   "id": "7aa5e803-e340-43af-b4bd-1a06d7c674e7",
   "metadata": {},
   "source": [
    "(a) : $$\\lim_{x \\rightarrow y}\\frac{f(x)-f(y)}{x-y}$$\n",
    "(b) : $$\\lim_{h \\rightarrow 0 }\\frac{f(x+h)-f(x)}{h}$$"
   ]
  },
  {
   "cell_type": "markdown",
   "id": "aef2933f-1108-4625-9909-5df5abef03d0",
   "metadata": {},
   "source": [
    "### 原因 :\n",
    "當x非常接近y時, 可以看成x + h, xs"
   ]
  }
 ],
 "metadata": {
  "kernelspec": {
   "display_name": "Python 3.7.9 ('base')",
   "language": "python",
   "name": "python3"
  },
  "language_info": {
   "codemirror_mode": {
    "name": "ipython",
    "version": 3
   },
   "file_extension": ".py",
   "mimetype": "text/x-python",
   "name": "python",
   "nbconvert_exporter": "python",
   "pygments_lexer": "ipython3",
   "version": "3.7.9"
  },
  "vscode": {
   "interpreter": {
    "hash": "bc30f45a0ee3bb283605bb62d26dc81a10ff7c6c6d220b9edda588a614f8ccf9"
   }
  }
 },
 "nbformat": 4,
 "nbformat_minor": 5
}
