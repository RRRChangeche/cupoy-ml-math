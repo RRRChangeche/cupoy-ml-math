{
  "cells": [
    {
      "cell_type": "markdown",
      "metadata": {
        "id": "ZZQnS9y1Ytco"
      },
      "source": [
        "認識兩個數值函數\n",
        "\n",
        "1. ceil() :- 求 7.9 的 ceil()\n",
        "\n",
        "2. floor() :-求 7.9 的 floor()值。"
      ]
    },
    {
      "cell_type": "code",
      "execution_count": 5,
      "metadata": {
        "colab": {
          "base_uri": "https://localhost:8080/"
        },
        "id": "iCcGk5rNYGsn",
        "outputId": "042e67dc-7934-4e7b-f26c-5666c1977616"
      },
      "outputs": [
        {
          "name": "stdout",
          "output_type": "stream",
          "text": [
            "The ceil of 7.9 is : 8\n",
            "The ceil of 7.9 is : 7\n"
          ]
        }
      ],
      "source": [
        "# 以 Python 程式示範如何呼叫\n",
        "# ceil() 和 floor()\n",
        "\n",
        "# 載入 \"math\" 數學程式庫\n",
        "import math\n",
        "\n",
        "a = 7.9\n",
        "\n",
        "# 求 7.9 的 ceil()\n",
        "## 你的程式碼  ##\n",
        "print(f\"The ceil of 7.9 is : {(math.ceil(a))}\")\n",
        "\n",
        "# 求 7.9 的 floor()\n",
        "## 你的程式碼  ##\n",
        "print(f\"The ceil of 7.9 is : {(math.floor(a))}\")\n"
      ]
    },
    {
      "cell_type": "markdown",
      "metadata": {
        "id": "_-BATvKzYzUc"
      },
      "source": [
        "認識fabs()和 factorial()\n",
        "\n",
        "3.fabs() :-  回傳-1的絕對值\n",
        "\n",
        "4.factorial() :- 回傳6階乘值"
      ]
    },
    {
      "cell_type": "code",
      "execution_count": 6,
      "metadata": {
        "colab": {
          "base_uri": "https://localhost:8080/"
        },
        "id": "5DmRBwcvYaEa",
        "outputId": "81dba8eb-be65-473f-a4b1-2fd1fd8ce7b3"
      },
      "outputs": [
        {
          "name": "stdout",
          "output_type": "stream",
          "text": [
            "The absolute value of -1 is : 1.0\n",
            "The factorial of 6 is : 720\n"
          ]
        }
      ],
      "source": [
        "# 以 Python 程式示範如何呼叫\n",
        "# fabs() and factorial()\n",
        "\n",
        "# 載入 \"math\" 數學程式庫\n",
        "import math\n",
        "\n",
        "a = -1\n",
        "\n",
        "b= 6\n",
        "\n",
        "# 回傳絕對值.\n",
        "## 你的程式碼  ##\n",
        "print(f\"The absolute value of -1 is : {(math.fabs(a))}\")\n",
        "\n",
        "# 回傳 6 的階乘\n",
        "## 你的程式碼  ##\n",
        "print(f\"The factorial of 6 is : {(math.factorial(b))}\")\n"
      ]
    },
    {
      "cell_type": "markdown",
      "metadata": {
        "id": "bKOhN7mBY6ov"
      },
      "source": [
        "認識 copyign() 和 gcd()\n",
        "\n",
        "5. copysign(a, b) :- 此函數回傳 -9 的值和 7.6 的正負號， 是個浮點函數.\n",
        "\n",
        "6. gcd() :- 此函數回傳10和25的最大公約數. 版本需 python 3.5 或以上"
      ]
    },
    {
      "cell_type": "code",
      "execution_count": 7,
      "metadata": {
        "colab": {
          "base_uri": "https://localhost:8080/"
        },
        "id": "r4rc4dmUDQAj",
        "outputId": "80c0c011-b9b0-4a31-becd-821ccae2a5af"
      },
      "outputs": [
        {
          "name": "stdout",
          "output_type": "stream",
          "text": [
            "The copysigned value of -9 and 7.6 is : 9.0\n",
            "The gcd of 10 and 25 is : 5\n"
          ]
        }
      ],
      "source": [
        "# 以 Python 程式呼叫\n",
        "# copysign() 和 gcd()\n",
        "\n",
        "# 載入 \"math\" 數學程式庫\n",
        "import math\n",
        "\n",
        "a = -9\n",
        "b = 7.6\n",
        "c = 25\n",
        "d = 10\n",
        "\n",
        "# 回傳 copysigned 的值.\n",
        "## 你的程式碼  ##\n",
        "print(f\"The copysigned value of -9 and 7.6 is : {(math.copysign(a, b))}\")\n",
        "\n",
        "# 回傳 25 和 10 的 最大公約數\n",
        "## 你的程式碼  ##\n",
        "print(f\"The gcd of 10 and 25 is : {(math.gcd(c, d))}\")\n"
      ]
    }
  ],
  "metadata": {
    "colab": {
      "name": "MathNumericalFunc_作業.ipynb",
      "provenance": []
    },
    "kernelspec": {
      "display_name": "Python 3.7.9 ('base')",
      "language": "python",
      "name": "python3"
    },
    "language_info": {
      "codemirror_mode": {
        "name": "ipython",
        "version": 3
      },
      "file_extension": ".py",
      "mimetype": "text/x-python",
      "name": "python",
      "nbconvert_exporter": "python",
      "pygments_lexer": "ipython3",
      "version": "3.7.9"
    },
    "vscode": {
      "interpreter": {
        "hash": "bc30f45a0ee3bb283605bb62d26dc81a10ff7c6c6d220b9edda588a614f8ccf9"
      }
    }
  },
  "nbformat": 4,
  "nbformat_minor": 0
}
