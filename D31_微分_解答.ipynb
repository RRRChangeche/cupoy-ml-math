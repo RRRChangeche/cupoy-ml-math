{
 "cells": [
  {
   "cell_type": "raw",
   "id": "4b5f9856-181c-4afb-be01-7ac10092aa24",
   "metadata": {},
   "source": [
    "作業目的 : 了解如何把極限的概念應用在微分。\n",
    "    \n",
    "作業題目 : 為甚麼我們可以把下列的 (a) 式轉為 (b) 式?"
   ]
  },
  {
   "cell_type": "markdown",
   "id": "3d0a91f4-7c6b-455e-8319-8bb88a45919b",
   "metadata": {},
   "source": [
    "(a) : $$\\lim_{x \\rightarrow y}\\frac{f(x)-f(y)}{x-y}$$\n",
    "(b) : $$\\lim_{h \\rightarrow 0 }\\frac{f(x+h)-f(x)}{h}$$"
   ]
  },
  {
   "cell_type": "markdown",
   "id": "e58739a9-60b9-4fa7-9b5e-a2e0daf51692",
   "metadata": {},
   "source": [
    "### 原因 :"
   ]
  },
  {
   "cell_type": "raw",
   "id": "b290a6a4-822a-4011-a81b-91337dd7ce72",
   "metadata": {},
   "source": [
    "當 x 非常靠近 y 時，我們可以把 x,y 看成 x+h,x(順序不重要)，這裡的 h 要非常小 (靠近0)。\n",
    "\n",
    "分母 : x - y = (x+h) - x = h。\n",
    "分子 : f(x)-f(y) = f(x+h) - f(x)"
   ]
  }
 ],
 "metadata": {
  "kernelspec": {
   "display_name": "Python 3.9.10 64-bit",
   "language": "python",
   "name": "python3"
  },
  "language_info": {
   "codemirror_mode": {
    "name": "ipython",
    "version": 3
   },
   "file_extension": ".py",
   "mimetype": "text/x-python",
   "name": "python",
   "nbconvert_exporter": "python",
   "pygments_lexer": "ipython3",
   "version": "3.9.10"
  },
  "vscode": {
   "interpreter": {
    "hash": "2a8dfe095fce2b5e88c64a2c3ee084c8e0e0d70b23e7b95b1cfb538be294c5c8"
   }
  }
 },
 "nbformat": 4,
 "nbformat_minor": 5
}
