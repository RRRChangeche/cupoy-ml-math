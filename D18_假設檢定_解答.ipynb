{
 "cells": [
  {
   "cell_type": "raw",
   "id": "55189659-8d4f-429e-8e0b-a3f4fbe1b977",
   "metadata": {},
   "source": [
    "作業目的 : 了解顯著水準對於假設檢定結果的影響。\n",
    "\n",
    "作業題目 : 把範例中的顯著水準改為 0.1，並下結論。"
   ]
  },
  {
   "cell_type": "markdown",
   "id": "4c6076c0-813f-4928-9d25-5d14b130e47c",
   "metadata": {},
   "source": [
    "##### $Z_{0.1} = 1.28$ (查表並利用差分法得知)"
   ]
  },
  {
   "cell_type": "code",
   "execution_count": 3,
   "id": "c5445efd-32ac-42cc-b79e-58f2d35089fb",
   "metadata": {},
   "outputs": [],
   "source": [
    "import numpy as np"
   ]
  },
  {
   "cell_type": "code",
   "execution_count": 4,
   "id": "9b169628-26de-4f35-8072-8929a04dcc0f",
   "metadata": {},
   "outputs": [
    {
     "name": "stdout",
     "output_type": "stream",
     "text": [
      "臨界值為98.40\n"
     ]
    }
   ],
   "source": [
    "# 計算臨界值\n",
    "mu = 100\n",
    "S = 10\n",
    "ctc_pt = 100 - 1.28 * (10 / np.sqrt(64))\n",
    "print('臨界值為%.2f'%ctc_pt)"
   ]
  },
  {
   "cell_type": "code",
   "execution_count": 5,
   "id": "82f49f3b-659b-46b4-a383-4f1d29b3c826",
   "metadata": {},
   "outputs": [
    {
     "name": "stdout",
     "output_type": "stream",
     "text": [
      "拒絕虛無假設\n"
     ]
    }
   ],
   "source": [
    "X = 98\n",
    "\n",
    "if X >= ctc_pt:\n",
    "    print('不拒絕虛無假設')\n",
    "else:\n",
    "    print('拒絕虛無假設')"
   ]
  },
  {
   "cell_type": "raw",
   "id": "9b76b4e5-16b9-45a7-83cd-0b2e5861d5d7",
   "metadata": {},
   "source": [
    "結論 : \n",
    "在顯著水準 alpha=0.1 下，根據 64 天的營業額作營業額小於 100(千元) 的假設檢定，檢定結果拒絕虛無假設。"
   ]
  }
 ],
 "metadata": {
  "kernelspec": {
   "display_name": "Python 3",
   "language": "python",
   "name": "python3"
  },
  "language_info": {
   "codemirror_mode": {
    "name": "ipython",
    "version": 3
   },
   "file_extension": ".py",
   "mimetype": "text/x-python",
   "name": "python",
   "nbconvert_exporter": "python",
   "pygments_lexer": "ipython3",
   "version": "3.8.5"
  }
 },
 "nbformat": 4,
 "nbformat_minor": 5
}
