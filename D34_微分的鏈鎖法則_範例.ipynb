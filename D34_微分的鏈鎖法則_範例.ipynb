{
 "cells": [
  {
   "cell_type": "markdown",
   "id": "60a97751-1a52-4736-a218-6da0ad33728f",
   "metadata": {},
   "source": [
    "### 拆解合成函數"
   ]
  },
  {
   "cell_type": "code",
   "execution_count": 1,
   "id": "9794a5c0-1635-4cd8-aebb-389293f6f1fb",
   "metadata": {},
   "outputs": [],
   "source": [
    "import numpy as np"
   ]
  },
  {
   "cell_type": "markdown",
   "id": "77ceccf3-1246-4de5-bd73-f45f17a74013",
   "metadata": {},
   "source": [
    "假設一函數 $$ f(x) = e^{\\sqrt{ln(x)}} $$"
   ]
  },
  {
   "cell_type": "raw",
   "id": "8980b5c1-3f4e-43bf-aab3-f092bbcf6bca",
   "metadata": {},
   "source": [
    "我們想要求 f'(10)。"
   ]
  },
  {
   "cell_type": "raw",
   "id": "bf9159a7-363e-4f67-857c-523d7ce0d15a",
   "metadata": {},
   "source": [
    "首先，先判斷有幾個函數在做合成 : "
   ]
  },
  {
   "cell_type": "markdown",
   "id": "d489eb84-4c8f-4959-bf0a-ecf9826cf749",
   "metadata": {},
   "source": [
    "$$g(x)=e^x\\\\h(x)=\\sqrt{x}\\\\\\tau(x)=ln(x)$$"
   ]
  },
  {
   "cell_type": "raw",
   "id": "4c1e0fcc-9435-4605-8440-4d0ffa93624a",
   "metadata": {},
   "source": [
    "怎麼合成的 :"
   ]
  },
  {
   "cell_type": "markdown",
   "id": "0fbdf7f0-d61d-4916-bcef-2c0204072ade",
   "metadata": {},
   "source": [
    "$$f(x) = g(h(\\tau(x)))$$"
   ]
  },
  {
   "cell_type": "markdown",
   "id": "f67f222d-a197-4357-822a-63d42ae59da3",
   "metadata": {},
   "source": [
    "### 使用微分連鎖律來求得微分"
   ]
  },
  {
   "cell_type": "markdown",
   "id": "5134ff34-2209-45e4-8140-df86dd55f17f",
   "metadata": {},
   "source": [
    "$$\\frac{df}{dx}=\\frac{df}{dg}\\frac{dg}{dh}\\frac{dh}{d\\tau}\\frac{d\\tau}{dx}$$"
   ]
  },
  {
   "cell_type": "raw",
   "id": "02ec8c30-fc00-4f1a-8988-b4bc6d13d6ba",
   "metadata": {},
   "source": [
    "我們來定義以上三個函數，再各自作微分後代入 x=10 得出結果 :"
   ]
  },
  {
   "cell_type": "code",
   "execution_count": 2,
   "id": "f4821cde-8c97-4ae4-a651-f609618c5351",
   "metadata": {},
   "outputs": [],
   "source": [
    "def g(x):\n",
    "    return np.exp(x)\n",
    "\n",
    "def h(x):\n",
    "    return np.sqrt(x)\n",
    "\n",
    "def τ(x):\n",
    "    return np.log(x)"
   ]
  },
  {
   "cell_type": "code",
   "execution_count": 3,
   "id": "ea1d4170-a700-417c-878d-7fb5b0c2f6dd",
   "metadata": {},
   "outputs": [],
   "source": [
    "# 定義微分函數\n",
    "# 底下函數介紹 : f 是要微分的函數; 回傳值為一個函數 f(x) (f 微分後的函數)。\n",
    "\n",
    "def diff(f):\n",
    "    h=0.001\n",
    "    return lambda x : (f(x+h)-f(x))/h"
   ]
  },
  {
   "cell_type": "code",
   "execution_count": 4,
   "id": "337f3471-91c3-4b85-9058-93af05e0be32",
   "metadata": {},
   "outputs": [],
   "source": [
    "# dg/dh(10) = \n",
    "a = diff(g)(h(τ(10)))\n",
    "\n",
    "# dh/dτ(10) =\n",
    "b = diff(h)(τ(10))\n",
    "\n",
    "# dτ/dx(10) =\n",
    "c = diff(τ)(10)"
   ]
  },
  {
   "cell_type": "code",
   "execution_count": 5,
   "id": "a02737c3-6b2f-4b3a-bd85-2b899928ec12",
   "metadata": {},
   "outputs": [],
   "source": [
    "# f'(10) =\n",
    "f_prime = a*b*c"
   ]
  },
  {
   "cell_type": "code",
   "execution_count": 6,
   "id": "1454e2a8-7d25-4743-84a3-b676fc132861",
   "metadata": {},
   "outputs": [
    {
     "name": "stdout",
     "output_type": "stream",
     "text": [
      "f_prime(10)=0.15032\n"
     ]
    }
   ],
   "source": [
    "print('f_prime(10)=%.5f'%f_prime)"
   ]
  },
  {
   "cell_type": "raw",
   "id": "a2e5bd1f-c625-40d1-842e-31fb2d878038",
   "metadata": {},
   "source": [
    "手算 :"
   ]
  },
  {
   "cell_type": "markdown",
   "id": "ba480d8a-07b1-4632-8179-e5dac8e79b46",
   "metadata": {},
   "source": [
    "$$f'(x)=e^{\\sqrt{lnx}} \\cdot \\frac{1}{2\\sqrt{lnx}} \\cdot \\frac{1}{10}$$"
   ]
  },
  {
   "cell_type": "code",
   "execution_count": 7,
   "id": "ccddb3a9-ce55-4ae7-8b45-5ad619bfef9f",
   "metadata": {},
   "outputs": [
    {
     "name": "stdout",
     "output_type": "stream",
     "text": [
      "f_prime(10)=0.15027\n"
     ]
    }
   ],
   "source": [
    "a = np.exp(np.sqrt(np.log(10)))\n",
    "b = 1/2*(1/np.sqrt(np.log(10)))\n",
    "c = 1/10\n",
    "f_prime_ = a*b*c\n",
    "print('f_prime(10)=%.5f'%f_prime_)"
   ]
  },
  {
   "cell_type": "raw",
   "id": "fc8368f6-0b99-4ee6-9d72-08f98e21f1b3",
   "metadata": {},
   "source": [
    "結論 : 因為數值計算上有些誤差，但值非常相近，所以正確，以上即為簡單的微分連鎖律，這邊必須熟練，當進入到深度學習模型時才可駕輕就熟!"
   ]
  }
 ],
 "metadata": {
  "kernelspec": {
   "display_name": "Python 3.7.9 ('base')",
   "language": "python",
   "name": "python3"
  },
  "language_info": {
   "codemirror_mode": {
    "name": "ipython",
    "version": 3
   },
   "file_extension": ".py",
   "mimetype": "text/x-python",
   "name": "python",
   "nbconvert_exporter": "python",
   "pygments_lexer": "ipython3",
   "version": "3.7.9"
  },
  "vscode": {
   "interpreter": {
    "hash": "bc30f45a0ee3bb283605bb62d26dc81a10ff7c6c6d220b9edda588a614f8ccf9"
   }
  }
 },
 "nbformat": 4,
 "nbformat_minor": 5
}
