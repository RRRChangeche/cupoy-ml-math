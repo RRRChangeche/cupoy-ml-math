{
 "cells": [
  {
   "cell_type": "raw",
   "id": "b6e5b79d-ecd4-45bf-9326-9c3de3e90229",
   "metadata": {},
   "source": [
    "作業目的 : 了解如何使用 ROC curve，並了解不同閾值對於 ROC curve 的影響。\n",
    "    \n",
    "作業題目 : \n",
    "    1. 如何用 sklearn 畫出底下給出的數據之 ROC_curve。\n",
    "    2. 試著更改範例中程式碼的變數 threshold，並觀察 ROC 的變化。"
   ]
  },
  {
   "cell_type": "code",
   "execution_count": 4,
   "id": "46c2a300-e3d1-4ab6-b4a3-97b1f5c0710e",
   "metadata": {},
   "outputs": [],
   "source": [
    "import numpy as np\n",
    "import matplotlib.pyplot as plt\n",
    "import pandas as pd\n",
    "from sklearn.datasets import load_iris\n",
    "\n",
    "iris = load_iris()"
   ]
  },
  {
   "cell_type": "code",
   "execution_count": 5,
   "id": "df633867-3422-4e89-9fcc-98c2a1a3f6f9",
   "metadata": {},
   "outputs": [],
   "source": [
    "value = iris.data[:100,0]\n",
    "label = iris.target[:100]"
   ]
  },
  {
   "cell_type": "code",
   "execution_count": 6,
   "id": "691c2259-e5f2-45b3-9112-083a0d2772b3",
   "metadata": {},
   "outputs": [
    {
     "data": {
      "text/html": [
       "<div>\n",
       "<style scoped>\n",
       "    .dataframe tbody tr th:only-of-type {\n",
       "        vertical-align: middle;\n",
       "    }\n",
       "\n",
       "    .dataframe tbody tr th {\n",
       "        vertical-align: top;\n",
       "    }\n",
       "\n",
       "    .dataframe thead th {\n",
       "        text-align: right;\n",
       "    }\n",
       "</style>\n",
       "<table border=\"1\" class=\"dataframe\">\n",
       "  <thead>\n",
       "    <tr style=\"text-align: right;\">\n",
       "      <th></th>\n",
       "      <th>label</th>\n",
       "      <th>value</th>\n",
       "    </tr>\n",
       "  </thead>\n",
       "  <tbody>\n",
       "    <tr>\n",
       "      <th>0</th>\n",
       "      <td>0</td>\n",
       "      <td>5.1</td>\n",
       "    </tr>\n",
       "    <tr>\n",
       "      <th>1</th>\n",
       "      <td>0</td>\n",
       "      <td>4.9</td>\n",
       "    </tr>\n",
       "    <tr>\n",
       "      <th>2</th>\n",
       "      <td>0</td>\n",
       "      <td>4.7</td>\n",
       "    </tr>\n",
       "    <tr>\n",
       "      <th>3</th>\n",
       "      <td>0</td>\n",
       "      <td>4.6</td>\n",
       "    </tr>\n",
       "    <tr>\n",
       "      <th>4</th>\n",
       "      <td>0</td>\n",
       "      <td>5.0</td>\n",
       "    </tr>\n",
       "    <tr>\n",
       "      <th>...</th>\n",
       "      <td>...</td>\n",
       "      <td>...</td>\n",
       "    </tr>\n",
       "    <tr>\n",
       "      <th>95</th>\n",
       "      <td>1</td>\n",
       "      <td>5.7</td>\n",
       "    </tr>\n",
       "    <tr>\n",
       "      <th>96</th>\n",
       "      <td>1</td>\n",
       "      <td>5.7</td>\n",
       "    </tr>\n",
       "    <tr>\n",
       "      <th>97</th>\n",
       "      <td>1</td>\n",
       "      <td>6.2</td>\n",
       "    </tr>\n",
       "    <tr>\n",
       "      <th>98</th>\n",
       "      <td>1</td>\n",
       "      <td>5.1</td>\n",
       "    </tr>\n",
       "    <tr>\n",
       "      <th>99</th>\n",
       "      <td>1</td>\n",
       "      <td>5.7</td>\n",
       "    </tr>\n",
       "  </tbody>\n",
       "</table>\n",
       "<p>100 rows × 2 columns</p>\n",
       "</div>"
      ],
      "text/plain": [
       "    label  value\n",
       "0       0    5.1\n",
       "1       0    4.9\n",
       "2       0    4.7\n",
       "3       0    4.6\n",
       "4       0    5.0\n",
       "..    ...    ...\n",
       "95      1    5.7\n",
       "96      1    5.7\n",
       "97      1    6.2\n",
       "98      1    5.1\n",
       "99      1    5.7\n",
       "\n",
       "[100 rows x 2 columns]"
      ]
     },
     "execution_count": 6,
     "metadata": {},
     "output_type": "execute_result"
    }
   ],
   "source": [
    "d = {'label':label,'value':value}\n",
    "\n",
    "pd.DataFrame(d)"
   ]
  },
  {
   "cell_type": "code",
   "execution_count": 7,
   "id": "a37ac574-f75e-4634-a4ea-10cce4d40b6c",
   "metadata": {},
   "outputs": [],
   "source": [
    "from sklearn import metrics"
   ]
  },
  {
   "cell_type": "markdown",
   "id": "c76c6a18-520e-429d-9178-c6d5dfb3f076",
   "metadata": {},
   "source": [
    "題目為以下這行"
   ]
  },
  {
   "cell_type": "code",
   "execution_count": 8,
   "id": "9a0581f1-c6b4-414c-a803-c85ba403c881",
   "metadata": {},
   "outputs": [],
   "source": [
    "fpr, tpr, thresholds = metrics.roc_curve(label, value, pos_label=1)"
   ]
  },
  {
   "cell_type": "code",
   "execution_count": 9,
   "id": "e94ccbeb-750a-45b9-8341-5455a91cedd8",
   "metadata": {},
   "outputs": [
    {
     "data": {
      "image/png": "[encoded data removed]",
      "text/plain": [
       "<Figure size 432x288 with 1 Axes>"
      ]
     },
     "metadata": {
      "needs_background": "light"
     },
     "output_type": "display_data"
    }
   ],
   "source": [
    "# 畫圖\n",
    "plt.plot(fpr,tpr)\n",
    "\n",
    "x=np.linspace(0,1)\n",
    "y=x\n",
    "plt.plot(x,y,'--')\n",
    "\n",
    "new_ticks = np.linspace(0,1,6)\n",
    "plt.xticks(new_ticks)\n",
    "plt.yticks(new_ticks)\n",
    "plt.xlabel('FPR')\n",
    "plt.ylabel('TPR')\n",
    "plt.title('ROC_curve')\n",
    "plt.show()"
   ]
  },
  {
   "cell_type": "code",
   "execution_count": null,
   "id": "4269c101",
   "metadata": {},
   "outputs": [],
   "source": []
  }
 ],
 "metadata": {
  "kernelspec": {
   "display_name": "Python 3.7.9 ('base')",
   "language": "python",
   "name": "python3"
  },
  "language_info": {
   "codemirror_mode": {
    "name": "ipython",
    "version": 3
   },
   "file_extension": ".py",
   "mimetype": "text/x-python",
   "name": "python",
   "nbconvert_exporter": "python",
   "pygments_lexer": "ipython3",
   "version": "3.7.9"
  },
  "vscode": {
   "interpreter": {
    "hash": "bc30f45a0ee3bb283605bb62d26dc81a10ff7c6c6d220b9edda588a614f8ccf9"
   }
  }
 },
 "nbformat": 4,
 "nbformat_minor": 5
}
