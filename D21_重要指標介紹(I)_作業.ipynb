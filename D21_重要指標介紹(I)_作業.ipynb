{
 "cells": [
  {
   "cell_type": "markdown",
   "id": "3d41bd08-2286-4faa-a20c-dfe728a0084d",
   "metadata": {},
   "source": [
    "作業目的 : 清楚 entropy 的意義。\n",
    "    \n",
    "作業題目 : \n",
    "\n",
    "    1. 把範例的例子稍加修改，請在計算前先回答此時的 entropy 會比範例中算出的 entropy 來的大/小，原因為何 ? \n",
    "\n",
    "    2. 請計算 entropy，驗證 你的回答。"
   ]
  },
  {
   "cell_type": "markdown",
   "id": "77a36807-4aa4-4ebf-a424-be0f800cf331",
   "metadata": {},
   "source": [
    "事件描述　：　\n",
    "有一賽事總共 16 支隊伍參賽，假設每一隊拿冠軍的機率相等且某兩隊伍名稱分別為 A 和 B。\n",
    "已知 A 和 B 在過去的 32 次交手中， A 贏了 31 場比賽， B 贏了 1 場比賽。\n",
    "那麼，A 與 B 的比賽結果的 entropy(information entropy) 為多少呢?"
   ]
  },
  {
   "cell_type": "markdown",
   "id": "b289d109-7603-4fcf-99ab-447f44e3b4e7",
   "metadata": {},
   "source": [
    "此時的 entropy 會比範例中來的 ? 小, 因為A贏的機率大, 資訊量很小很容易預測結果"
   ]
  },
  {
   "cell_type": "code",
   "execution_count": 1,
   "id": "c6458749-9e68-4b36-9dc4-f0294a858d91",
   "metadata": {},
   "outputs": [
    {
     "data": {
      "text/plain": [
       "0.20062232431271465"
      ]
     },
     "execution_count": 1,
     "metadata": {},
     "output_type": "execute_result"
    }
   ],
   "source": [
    "import numpy as np\n",
    "\n",
    "P_X1 = 31/32\n",
    "P_X2 = 1/32\n",
    "\n",
    "H = - ( P_X1*np.log2(P_X1) + P_X2*np.log2(P_X2) )\n",
    "H"
   ]
  }
 ],
 "metadata": {
  "kernelspec": {
   "display_name": "Python 3.7.9 ('base')",
   "language": "python",
   "name": "python3"
  },
  "language_info": {
   "codemirror_mode": {
    "name": "ipython",
    "version": 3
   },
   "file_extension": ".py",
   "mimetype": "text/x-python",
   "name": "python",
   "nbconvert_exporter": "python",
   "pygments_lexer": "ipython3",
   "version": "3.7.9"
  },
  "vscode": {
   "interpreter": {
    "hash": "bc30f45a0ee3bb283605bb62d26dc81a10ff7c6c6d220b9edda588a614f8ccf9"
   }
  }
 },
 "nbformat": 4,
 "nbformat_minor": 5
}
