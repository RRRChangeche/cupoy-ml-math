{
 "cells": [
  {
   "cell_type": "raw",
   "id": "3f6c0f4d-57dc-4ac0-a116-84b833ca7f40",
   "metadata": {},
   "source": [
    "作業目的 : 懂得怎麼得到概似函數，且瞭解其概念，然而，找最大值需用到微分的概念(後面的課程)，所以在此不討論。\n",
    "    \n",
    "作業題目 : 若我們有一顆不均勻正反兩面硬幣，且每次投擲結果互相獨立(前一次的結果不影響後一次的結果)，我們想利用概似函數，了解這枚硬幣擲出正面的機率比較可能是 0.5 還是 0.6。於是，我們投擲了三次，其中，兩次出現正面、一次出現反面。"
   ]
  },
  {
   "cell_type": "code",
   "execution_count": 1,
   "id": "264429ba-d0b7-466e-88af-5b2b806343a0",
   "metadata": {},
   "outputs": [],
   "source": [
    "import numpy as np\n",
    "import matplotlib.pyplot as plt"
   ]
  },
  {
   "cell_type": "code",
   "execution_count": 3,
   "id": "474f8c7d-7075-452f-9d4b-39d1bbec91eb",
   "metadata": {},
   "outputs": [],
   "source": [
    "# P(x=正面)*P(x=正面)*P(x=反面)\n",
    "def L(θ):\n",
    "    return θ**2 * (1-θ)"
   ]
  },
  {
   "cell_type": "code",
   "execution_count": 4,
   "id": "f9f7e2e9-68da-4e8e-8b73-c001f531b2fa",
   "metadata": {},
   "outputs": [
    {
     "name": "stdout",
     "output_type": "stream",
     "text": [
      "擲出正面的機率較有可能是0.6\n"
     ]
    }
   ],
   "source": [
    "a = 0.5\n",
    "b = 0.6\n",
    "if L(a)<L(b):\n",
    "    print('擲出正面的機率較有可能是%.1f'%b)\n",
    "else:\n",
    "    print('擲出正面的機率較有可能是%.1f'%a)"
   ]
  }
 ],
 "metadata": {
  "kernelspec": {
   "display_name": "Python 3.7.9 ('base')",
   "language": "python",
   "name": "python3"
  },
  "language_info": {
   "codemirror_mode": {
    "name": "ipython",
    "version": 3
   },
   "file_extension": ".py",
   "mimetype": "text/x-python",
   "name": "python",
   "nbconvert_exporter": "python",
   "pygments_lexer": "ipython3",
   "version": "3.7.9"
  },
  "vscode": {
   "interpreter": {
    "hash": "bc30f45a0ee3bb283605bb62d26dc81a10ff7c6c6d220b9edda588a614f8ccf9"
   }
  }
 },
 "nbformat": 4,
 "nbformat_minor": 5
}
