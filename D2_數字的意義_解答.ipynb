{
 "cells": [
  {
   "cell_type": "markdown",
   "id": "146ada52-8553-4e19-888d-e59de0c3f4c0",
   "metadata": {},
   "source": [
    "作業目標 : 了解數字與符號的應用。\n",
    "\n",
    "作業題目 : 若想以中括號分別表示 5 個類別，如何做到。(提示 : one-hot encoding)"
   ]
  },
  {
   "cell_type": "code",
   "execution_count": 1,
   "id": "0a494222-a4ae-4d65-a084-67c333902eab",
   "metadata": {},
   "outputs": [],
   "source": [
    "cla_1 = [ 1, 0, 0, 0, 0]\n",
    "cla_2 = [ 0, 1, 0, 0, 0]\n",
    "cla_3 = [ 0, 0, 1, 0, 0]\n",
    "cla_4 = [ 0, 0, 0, 1, 0]\n",
    "cla_5 = [ 0, 0, 0, 0, 1]"
   ]
  }
 ],
 "metadata": {
  "kernelspec": {
   "display_name": "Python 3.9.10 64-bit (system)",
   "language": "python",
   "name": "python3"
  },
  "language_info": {
   "codemirror_mode": {
    "name": "ipython",
    "version": 3
   },
   "file_extension": ".py",
   "mimetype": "text/x-python",
   "name": "python",
   "nbconvert_exporter": "python",
   "pygments_lexer": "ipython3",
   "version": "3.9.10"
  },
  "vscode": {
   "interpreter": {
    "hash": "2a8dfe095fce2b5e88c64a2c3ee084c8e0e0d70b23e7b95b1cfb538be294c5c8"
   }
  }
 },
 "nbformat": 4,
 "nbformat_minor": 5
}
