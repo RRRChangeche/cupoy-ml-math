{
 "cells": [
  {
   "cell_type": "raw",
   "id": "bc13b849-75d5-48a3-a7af-eaddcc3f4fe5",
   "metadata": {},
   "source": [
    "作業目的 : 了解極限的存在與否。\n",
    "    \n",
    "作業題目 : 以下極限值存不存在?(提示 : 代表左右極限存在且相等) 範例中第二個例子極限在 x=0 時不存在的理由為?"
   ]
  },
  {
   "cell_type": "markdown",
   "id": "c1266b8e-4432-4451-8f81-51e67121344b",
   "metadata": {},
   "source": [
    "函數為 $$f(x)=\\frac{|x|}{x}$$我們考慮$$\\lim_{x \\rightarrow 0}\\frac{|x|}{x}$$"
   ]
  },
  {
   "cell_type": "markdown",
   "id": "bc13675e-f477-4252-b13a-237bc813bfdd",
   "metadata": {},
   "source": [
    "### 答案 :"
   ]
  },
  {
   "cell_type": "raw",
   "id": "9ad6a02e-2335-453b-8cdb-1226dbe2fff4",
   "metadata": {},
   "source": [
    "因為左極限不等於右極限，因此極限不存在，解釋如下。"
   ]
  },
  {
   "cell_type": "markdown",
   "id": "79170cd3-250a-4252-b0e7-2372d9bd693c",
   "metadata": {},
   "source": [
    "先考慮從左邊逼近 : $$\\lim_{x \\rightarrow 0^{-}}\\frac{|x|}{x}$$"
   ]
  },
  {
   "cell_type": "raw",
   "id": "c927ba18-ca58-4c11-a9ae-ab5d8925a4f9",
   "metadata": {},
   "source": [
    "這時，因為 x<0 ，所以 |x|=-x。\n",
    "\n",
    "因此從左邊逼近的答案為 -1。"
   ]
  },
  {
   "cell_type": "markdown",
   "id": "81684f36-074f-4226-813e-530ff6e9067d",
   "metadata": {},
   "source": [
    "再考慮從右邊逼近 : $$\\lim_{x \\rightarrow 0^{+}}\\frac{|x|}{x}$$"
   ]
  },
  {
   "cell_type": "raw",
   "id": "438aaf45-e662-4015-9ea9-72cfd64bf5bb",
   "metadata": {},
   "source": [
    "這時，因為 x>0 ，所以 |x|=x。\n",
    "\n",
    "因此從左邊逼近的答案為 1。"
   ]
  },
  {
   "cell_type": "markdown",
   "id": "e8fc12a0-e56b-4c2d-a6c8-d451b32c2dab",
   "metadata": {},
   "source": [
    "### 範例中極限不存在的理由 : "
   ]
  },
  {
   "cell_type": "markdown",
   "id": "46f2aa56-fde8-40de-80d0-0b369e61c851",
   "metadata": {},
   "source": [
    "範例中第二個例子 : \n",
    "定義函數 g 為 $$g(x)=\\left\\{\\begin{matrix} 1, \\,\\, if \\,\\, x<0, \\\\0, \\,\\, if \\,\\, x> 0.\\end{matrix}\\right.$$"
   ]
  },
  {
   "cell_type": "raw",
   "id": "a4b81cfe-9184-4294-838d-a36cb324f1d4",
   "metadata": {},
   "source": [
    "0 不在函數定義的範圍內"
   ]
  }
 ],
 "metadata": {
  "kernelspec": {
   "display_name": "Python 3.9.10 64-bit",
   "language": "python",
   "name": "python3"
  },
  "language_info": {
   "codemirror_mode": {
    "name": "ipython",
    "version": 3
   },
   "file_extension": ".py",
   "mimetype": "text/x-python",
   "name": "python",
   "nbconvert_exporter": "python",
   "pygments_lexer": "ipython3",
   "version": "3.9.10"
  },
  "vscode": {
   "interpreter": {
    "hash": "2a8dfe095fce2b5e88c64a2c3ee084c8e0e0d70b23e7b95b1cfb538be294c5c8"
   }
  }
 },
 "nbformat": 4,
 "nbformat_minor": 5
}
