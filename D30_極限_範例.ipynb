{
 "cells": [
  {
   "cell_type": "markdown",
   "id": "c6ca2645-3a8d-40cf-9229-2742a228092e",
   "metadata": {},
   "source": [
    "### 把極限可視化"
   ]
  },
  {
   "cell_type": "code",
   "execution_count": 1,
   "id": "f7553417-2724-4925-91c3-aab46c06a84f",
   "metadata": {},
   "outputs": [],
   "source": [
    "import numpy as np\n",
    "import matplotlib.pyplot as plt\n",
    "import imageio\n",
    "import os"
   ]
  },
  {
   "cell_type": "markdown",
   "id": "84c9f65d-ccb0-473a-89c4-289ec2c61d0f",
   "metadata": {},
   "source": [
    "## 極限存在的例子"
   ]
  },
  {
   "cell_type": "code",
   "execution_count": 3,
   "id": "0bc06882-2620-4d62-a954-e58e25906aa3",
   "metadata": {},
   "outputs": [],
   "source": [
    "x=np.linspace(-10,10)\n",
    "x_run=np.linspace(-3,0)"
   ]
  },
  {
   "cell_type": "markdown",
   "id": "fce9bb1e-8dbd-4e21-9de4-6ef3d54058d5",
   "metadata": {},
   "source": [
    "定義函數 f 為 $$f(x)=x^2$$"
   ]
  },
  {
   "cell_type": "code",
   "execution_count": 4,
   "id": "469a857d-5d73-46ca-af8f-9d1df6b6ddb2",
   "metadata": {},
   "outputs": [],
   "source": [
    "def f(x):\n",
    "    return x**2"
   ]
  },
  {
   "cell_type": "code",
   "execution_count": 5,
   "id": "cc569d46-9a9e-466d-af0c-9054ab5bd0d0",
   "metadata": {},
   "outputs": [
    {
     "data": {
      "image/png": "[encoded data removed]",
      "text/plain": [
       "<Figure size 432x288 with 1 Axes>"
      ]
     },
     "metadata": {
      "needs_background": "light"
     },
     "output_type": "display_data"
    }
   ],
   "source": [
    "plt.plot(x,f(x))\n",
    "plt.legend('f',fontsize=13)\n",
    "plt.show()"
   ]
  },
  {
   "cell_type": "markdown",
   "id": "addf7823-61a2-4ff8-a4c1-65fbbfbadc36",
   "metadata": {},
   "source": [
    "#### 對於 f，x 逼近 0，會得到極限值為0。\n",
    "#### 也就是說 $$\\lim_{x \\rightarrow 0}f(x)=\\lim_{x \\rightarrow 0}x^2=0$$"
   ]
  },
  {
   "cell_type": "code",
   "execution_count": 7,
   "id": "3da64345-55ca-43db-8d6f-e39feb2d3bc0",
   "metadata": {},
   "outputs": [],
   "source": [
    "filenames = []\n",
    "num = 0\n",
    "\n",
    "for i in x_run:\n",
    "    \n",
    "    num += 1\n",
    "    # 繪製 n 張圖\n",
    "    plt.plot(x,f(x))\n",
    "    plt.scatter(i,f(i))\n",
    "    plt.ylim(0, 10)\n",
    "\n",
    "    # 保存圖片文件\n",
    "    filename = f'{num}.png'\n",
    "    filenames.append(filename)\n",
    "    plt.savefig(filename)\n",
    "    plt.close()\n",
    "\n",
    "\n",
    "# 生成 GIF\n",
    "with imageio.get_writer('D30_mygif.gif', mode='I') as writer:\n",
    "    for filename in filenames:\n",
    "        image = imageio.imread(filename)\n",
    "        writer.append_data(image)\n",
    "        \n",
    "            \n",
    "# 刪除 n 張圖\n",
    "for filename in set(filenames):\n",
    "    os.remove(filename)"
   ]
  },
  {
   "cell_type": "markdown",
   "id": "824f0305-98b2-41b4-9d06-76a4ecd338d5",
   "metadata": {},
   "source": [
    "## 極限不存在的例子"
   ]
  },
  {
   "cell_type": "markdown",
   "id": "e35169f6-15bb-4250-8527-61093df59e45",
   "metadata": {},
   "source": [
    "定義函數 g 為 $$g(x)=\\left\\{\\begin{matrix} 1, \\,\\, if \\,\\, x<0, \\\\0, \\,\\, if \\,\\, x> 0.\\end{matrix}\\right.$$"
   ]
  },
  {
   "cell_type": "code",
   "execution_count": 8,
   "id": "91847b6c-3ec1-41ad-927f-940be93c836e",
   "metadata": {},
   "outputs": [],
   "source": [
    "x=np.linspace(-10,10)\n",
    "x_run_l=np.linspace(-3,0)"
   ]
  },
  {
   "cell_type": "code",
   "execution_count": 9,
   "id": "9bd3d1a0-98f0-4dbc-aa59-ee9d10da529b",
   "metadata": {},
   "outputs": [],
   "source": [
    "def g(x):\n",
    "    if x < 0:\n",
    "        return 1\n",
    "    elif x > 0:\n",
    "        return 0\n",
    "    else:\n",
    "        return []"
   ]
  },
  {
   "cell_type": "code",
   "execution_count": 10,
   "id": "12fcb4aa-829a-4eec-b1b4-d29aeb1a0766",
   "metadata": {},
   "outputs": [],
   "source": [
    "g_l = []\n",
    "g_r = []\n",
    "\n",
    "for i in x[x<0]:\n",
    "    g_l.append(g(i))\n",
    "    \n",
    "for i in x[x>0]:\n",
    "    g_r.append(g(i))\n",
    "    \n",
    "g_l = np.array(g_l)\n",
    "g_r = np.array(g_r)"
   ]
  },
  {
   "cell_type": "code",
   "execution_count": 11,
   "id": "36cb45f6-92b7-4a0d-8d23-30125ae09a4e",
   "metadata": {},
   "outputs": [
    {
     "data": {
      "image/png": "[encoded data removed]",
      "text/plain": [
       "<Figure size 432x288 with 1 Axes>"
      ]
     },
     "metadata": {
      "needs_background": "light"
     },
     "output_type": "display_data"
    }
   ],
   "source": [
    "plt.plot(x[x<0],g_l,'b',x[x>0],g_r,'b')\n",
    "plt.legend('g',fontsize=13)\n",
    "plt.show()"
   ]
  },
  {
   "cell_type": "code",
   "execution_count": 12,
   "id": "d9ca5c3d-2e9c-4462-a1e8-37b4b9f2560b",
   "metadata": {},
   "outputs": [],
   "source": [
    "filenames = []\n",
    "num = 0\n",
    "\n",
    "for i in range(len(x_run_l)):\n",
    "    \n",
    "    num += 1\n",
    "    # 繪製 n 張圖\n",
    "    plt.plot(x[x<0],g_l,'b',x[x>0],g_r,'b')\n",
    "    plt.scatter(x_run_l[i],1,marker='o',color='k')\n",
    "    plt.scatter(-x_run_l[i],0,marker='o',color='k')\n",
    "    plt.ylim(-1, 2)\n",
    "\n",
    "    # 保存圖片文件\n",
    "    filename = f'{num}.png'\n",
    "    filenames.append(filename)\n",
    "    plt.savefig(filename)\n",
    "    plt.close()\n",
    "\n",
    "    \n",
    "# 生成 GIF\n",
    "with imageio.get_writer('D30_mygif_.gif', mode='I') as writer:\n",
    "    for filename in filenames:\n",
    "        image = imageio.imread(filename)\n",
    "        writer.append_data(image)\n",
    "        \n",
    "            \n",
    "# 刪除 n 張圖\n",
    "for filename in set(filenames):\n",
    "    os.remove(filename)"
   ]
  }
 ],
 "metadata": {
  "kernelspec": {
   "display_name": "Python 3.7.9 ('base')",
   "language": "python",
   "name": "python3"
  },
  "language_info": {
   "codemirror_mode": {
    "name": "ipython",
    "version": 3
   },
   "file_extension": ".py",
   "mimetype": "text/x-python",
   "name": "python",
   "nbconvert_exporter": "python",
   "pygments_lexer": "ipython3",
   "version": "3.7.9"
  },
  "vscode": {
   "interpreter": {
    "hash": "bc30f45a0ee3bb283605bb62d26dc81a10ff7c6c6d220b9edda588a614f8ccf9"
   }
  }
 },
 "nbformat": 4,
 "nbformat_minor": 5
}
