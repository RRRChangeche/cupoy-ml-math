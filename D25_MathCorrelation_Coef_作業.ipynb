{
  "cells": [
    {
      "cell_type": "markdown",
      "metadata": {
        "id": "DsUPkSFLNldc"
      },
      "source": [
        "作業1：繪出 data1 和 data2 之間的關係"
      ]
    },
    {
      "cell_type": "code",
      "execution_count": 2,
      "metadata": {
        "id": "faRpGzRKVk72"
      },
      "outputs": [
        {
          "name": "stdout",
          "output_type": "stream",
          "text": [
            "data1: mean=90.699 stdv=17.658\n",
            "data2: mean=151.109 stdv=23.716\n"
          ]
        },
        {
          "data": {
            "image/png": "[encoded data removed]",
            "text/plain": [
              "<Figure size 432x288 with 1 Axes>"
            ]
          },
          "metadata": {
            "needs_background": "light"
          },
          "output_type": "display_data"
        }
      ],
      "source": [
        "# 產生隨機變數\n",
        "from numpy import mean\n",
        "from numpy import std\n",
        "from numpy.random import randn\n",
        "from numpy.random import seed\n",
        "from matplotlib import pyplot\n",
        "# 設定隨機種子\n",
        "seed(1)\n",
        "# 準備資料\n",
        "data1 = 18 * randn(1000) + 90\n",
        "data2 = data1 + (15 * randn(1000) + 60)\n",
        "# 變數統計量\n",
        "print('data1: mean=%.3f stdv=%.3f' % (mean(data1), std(data1)))\n",
        "print('data2: mean=%.3f stdv=%.3f' % (mean(data2), std(data2)))\n",
        "# 繪圖\n",
        "pyplot.scatter(data1, data2)\n",
        "pyplot.show()"
      ]
    },
    {
      "cell_type": "markdown",
      "metadata": {
        "id": "8U5mawWKN5bs"
      },
      "source": [
        "作業2：計算 data1 和data2 之間的協方差"
      ]
    },
    {
      "cell_type": "code",
      "execution_count": 3,
      "metadata": {
        "id": "D-1zb-gIWGDu"
      },
      "outputs": [
        {
          "name": "stdout",
          "output_type": "stream",
          "text": [
            "[[312.11971161 318.08885069]\n",
            " [318.08885069 563.01679688]]\n"
          ]
        }
      ],
      "source": [
        "# 計算兩隨機變數之協方差\n",
        "from numpy.random import randn\n",
        "from numpy.random import seed\n",
        "from numpy import cov\n",
        "# seed random number generator\n",
        "seed(1)\n",
        "# prepare data\n",
        "data1 = 18 * randn(1000) + 90\n",
        "data2 = data1 + (15 * randn(1000) + 60)\n",
        "# calculate covariance matrix\n",
        "covariance = cov(data1, data2)\n",
        "print(covariance)"
      ]
    },
    {
      "cell_type": "markdown",
      "metadata": {
        "id": "O9tFKT4_OHuP"
      },
      "source": [
        "作業3：計算data1 和 data2 的相關係數"
      ]
    },
    {
      "cell_type": "code",
      "execution_count": 4,
      "metadata": {
        "id": "9Q_8xizGW8aM"
      },
      "outputs": [
        {
          "name": "stdout",
          "output_type": "stream",
          "text": [
            "Pearsons correlation: 0.759\n"
          ]
        }
      ],
      "source": [
        "# 計算兩變數之皮爾森 (Pearson's) 相關係數\n",
        "from numpy.random import randn\n",
        "from numpy.random import seed\n",
        "from scipy.stats import pearsonr\n",
        "# seed random number generator\n",
        "seed(1)\n",
        "# prepare data\n",
        "data1 = 18 * randn(1000) + 90\n",
        "data2 = data1 + (15 * randn(1000) + 60)\n",
        "# calculate Pearson's correlation\n",
        "corr, _ = pearsonr(data1, data2)\n",
        "print('Pearsons correlation: %.3f' % corr)"
      ]
    }
  ],
  "metadata": {
    "colab": {
      "name": "MathCorrelation_Coef_作業.ipynb",
      "provenance": []
    },
    "kernelspec": {
      "display_name": "Python 3.7.9 ('base')",
      "language": "python",
      "name": "python3"
    },
    "language_info": {
      "codemirror_mode": {
        "name": "ipython",
        "version": 3
      },
      "file_extension": ".py",
      "mimetype": "text/x-python",
      "name": "python",
      "nbconvert_exporter": "python",
      "pygments_lexer": "ipython3",
      "version": "3.7.9"
    },
    "vscode": {
      "interpreter": {
        "hash": "bc30f45a0ee3bb283605bb62d26dc81a10ff7c6c6d220b9edda588a614f8ccf9"
      }
    }
  },
  "nbformat": 4,
  "nbformat_minor": 0
}
