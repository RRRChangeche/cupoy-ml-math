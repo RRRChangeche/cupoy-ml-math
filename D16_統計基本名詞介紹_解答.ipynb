{
 "cells": [
  {
   "cell_type": "raw",
   "id": "9758beef-f534-4737-8dd3-9fbe72c4d34c",
   "metadata": {},
   "source": [
    "作業目的 : 熟悉重要統計名詞。\n",
    "    \n",
    "作業題目 : 利用以上三個函數算出下列數據的「算術平均數」、「變異數」即「標準差」。"
   ]
  },
  {
   "cell_type": "code",
   "execution_count": 4,
   "id": "c4cf9f0b-53b5-4c6b-9ab1-fd5a11d78c9a",
   "metadata": {},
   "outputs": [],
   "source": [
    "import numpy as np\n",
    "\n",
    "# 數據\n",
    "data = np.array([12,14,16,18,20,35,37,39,10,90])"
   ]
  },
  {
   "cell_type": "code",
   "execution_count": 16,
   "id": "0f507509-799b-4971-9490-131ca3f82c6e",
   "metadata": {},
   "outputs": [],
   "source": [
    "# 底下函數輸入皆為一個 list or array\n",
    "\n",
    "def Fcn_1(x):\n",
    "    return round(sum(x)/len(x),3)\n",
    "\n",
    "def Fcn_2(x):\n",
    "    return round(sum((x - Fcn_1(x))**2)/len(x),3)\n",
    "\n",
    "def Fcn_3(x):\n",
    "    return round(np.sqrt(Fcn_2(x)),3)"
   ]
  },
  {
   "cell_type": "markdown",
   "id": "58b9bed3-cd38-4268-811f-d49700bf3be2",
   "metadata": {},
   "source": [
    "算術平均數"
   ]
  },
  {
   "cell_type": "code",
   "execution_count": 17,
   "id": "a7c6f069-d1c7-4faf-84d7-e7cf456e265e",
   "metadata": {},
   "outputs": [
    {
     "data": {
      "text/plain": [
       "29.1"
      ]
     },
     "execution_count": 17,
     "metadata": {},
     "output_type": "execute_result"
    }
   ],
   "source": [
    "Fcn_1(data)"
   ]
  },
  {
   "cell_type": "markdown",
   "id": "edf83ae8-aec4-4998-b47e-8ac7ce1e547b",
   "metadata": {},
   "source": [
    "變異數"
   ]
  },
  {
   "cell_type": "code",
   "execution_count": 18,
   "id": "f7dc4974-8fe5-46ba-a685-bdc4fe7ccc17",
   "metadata": {},
   "outputs": [
    {
     "data": {
      "text/plain": [
       "516.69"
      ]
     },
     "execution_count": 18,
     "metadata": {},
     "output_type": "execute_result"
    }
   ],
   "source": [
    "Fcn_2(data)"
   ]
  },
  {
   "cell_type": "markdown",
   "id": "412c9bef-d946-4b4d-a8e3-d104dc48f66c",
   "metadata": {},
   "source": [
    "標準差"
   ]
  },
  {
   "cell_type": "code",
   "execution_count": 19,
   "id": "cdb7c88b-8b96-46bc-9877-93721bce66fb",
   "metadata": {},
   "outputs": [
    {
     "data": {
      "text/plain": [
       "22.731"
      ]
     },
     "execution_count": 19,
     "metadata": {},
     "output_type": "execute_result"
    }
   ],
   "source": [
    "Fcn_3(data)"
   ]
  }
 ],
 "metadata": {
  "kernelspec": {
   "display_name": "Python 3.9.10 64-bit (system)",
   "language": "python",
   "name": "python3"
  },
  "language_info": {
   "codemirror_mode": {
    "name": "ipython",
    "version": 3
   },
   "file_extension": ".py",
   "mimetype": "text/x-python",
   "name": "python",
   "nbconvert_exporter": "python",
   "pygments_lexer": "ipython3",
   "version": "3.9.10"
  },
  "vscode": {
   "interpreter": {
    "hash": "2a8dfe095fce2b5e88c64a2c3ee084c8e0e0d70b23e7b95b1cfb538be294c5c8"
   }
  }
 },
 "nbformat": 4,
 "nbformat_minor": 5
}
