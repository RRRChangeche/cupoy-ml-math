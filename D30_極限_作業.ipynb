{
 "cells": [
  {
   "cell_type": "markdown",
   "id": "059cb6f7-4aa1-40ee-b71f-73b5d4349b9d",
   "metadata": {},
   "source": [
    "作業目的 : 了解極限的存在與否。\n",
    "    \n",
    "作業題目 : 以下極限值存不存在?(提示 : 代表左右極限存在且相等) 範例中第二個例子極限在 x=0 時不存在的理由為?"
   ]
  },
  {
   "cell_type": "markdown",
   "id": "7e4265a5-cb8d-4aa9-9112-a5b95f0252b1",
   "metadata": {},
   "source": [
    "函數為 $$f(x)=\\frac{|x|}{x}$$我們考慮$$\\lim_{x \\rightarrow 0}\\frac{|x|}{x}$$"
   ]
  },
  {
   "cell_type": "markdown",
   "id": "8b853497-de45-4815-b258-fa7448a2b91e",
   "metadata": {},
   "source": [
    "### 答案 :"
   ]
  },
  {
   "cell_type": "markdown",
   "id": "7c68fad6-b1da-44ff-8554-f209d68524e7",
   "metadata": {},
   "source": [
    "函數不連續, 左極限不等於右極限"
   ]
  },
  {
   "cell_type": "markdown",
   "id": "480139d6-078c-4bf0-8f7e-439e04aa5546",
   "metadata": {},
   "source": [
    "### 範例中極限不存在的理由 :"
   ]
  },
  {
   "cell_type": "markdown",
   "id": "55de1da3-95af-4be9-9e17-9c480eb9bdbc",
   "metadata": {},
   "source": [
    "範例中第二個例子 : \n",
    "定義函數 g 為 $$g(x)=\\left\\{\\begin{matrix} 1, \\,\\, if \\,\\, x<0, \\\\0, \\,\\, if \\,\\, x> 0.\\end{matrix}\\right.$$"
   ]
  },
  {
   "cell_type": "markdown",
   "id": "a648cd26-2221-404f-9909-69b9e6eb2a2f",
   "metadata": {},
   "source": [
    "函數在0處沒有定義"
   ]
  }
 ],
 "metadata": {
  "kernelspec": {
   "display_name": "Python 3.7.9 ('base')",
   "language": "python",
   "name": "python3"
  },
  "language_info": {
   "codemirror_mode": {
    "name": "ipython",
    "version": 3
   },
   "file_extension": ".py",
   "mimetype": "text/x-python",
   "name": "python",
   "nbconvert_exporter": "python",
   "pygments_lexer": "ipython3",
   "version": "3.7.9"
  },
  "vscode": {
   "interpreter": {
    "hash": "bc30f45a0ee3bb283605bb62d26dc81a10ff7c6c6d220b9edda588a614f8ccf9"
   }
  }
 },
 "nbformat": 4,
 "nbformat_minor": 5
}
