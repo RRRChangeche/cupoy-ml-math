{
 "cells": [
  {
   "cell_type": "markdown",
   "id": "6ddfa95a-3d33-40df-9ea3-7e6b10facbdc",
   "metadata": {},
   "source": [
    "#### 用 sklearn 實現 Bagging 與 Boosting 演算法。以鳶尾花數據為例。"
   ]
  },
  {
   "cell_type": "markdown",
   "id": "6670fba7-935b-4862-a302-b86fe76a7e71",
   "metadata": {},
   "source": [
    "#### Bagging"
   ]
  },
  {
   "cell_type": "code",
   "execution_count": 1,
   "id": "7e52fcad-83a7-4e74-829a-710ca96908de",
   "metadata": {},
   "outputs": [],
   "source": [
    "from sklearn.ensemble import VotingClassifier\n",
    "from sklearn import datasets\n",
    "from sklearn.model_selection import train_test_split\n",
    "%matplotlib inline"
   ]
  },
  {
   "cell_type": "code",
   "execution_count": 2,
   "id": "efb881af-845c-4f7c-ba00-639ff610a423",
   "metadata": {},
   "outputs": [],
   "source": [
    "iris=datasets.load_iris()\n",
    "X=iris.data\n",
    "y=iris.target\n",
    "X_train, X_test, y_train, y_test = train_test_split(X, y,test_size=0.3,random_state=0)"
   ]
  },
  {
   "cell_type": "code",
   "execution_count": 3,
   "id": "81f12ad3-cf65-48cd-90c7-aa6c326da857",
   "metadata": {},
   "outputs": [],
   "source": [
    "from sklearn.svm import SVC\n",
    "from sklearn.tree import DecisionTreeClassifier\n",
    "from sklearn.naive_bayes import GaussianNB"
   ]
  },
  {
   "cell_type": "code",
   "execution_count": 4,
   "id": "d434dc53-e9bb-4c03-8fda-5d8a5e93780a",
   "metadata": {},
   "outputs": [],
   "source": [
    "# 圖2中的模型 1~3\n",
    "model_list=[]\n",
    "m1=SVC()\n",
    "model_list.append(('svm',m1))\n",
    "m2=DecisionTreeClassifier()\n",
    "model_list.append(('DT',m2))\n",
    "m3=GaussianNB()\n",
    "model_list.append(('NB',m3))\n",
    "vc=VotingClassifier(model_list)"
   ]
  },
  {
   "cell_type": "code",
   "execution_count": 5,
   "id": "a270e0ee-5320-4455-951d-fb7f22db1a9e",
   "metadata": {},
   "outputs": [
    {
     "data": {
      "text/plain": [
       "VotingClassifier(estimators=[('svm', SVC()), ('DT', DecisionTreeClassifier()),\n",
       "                             ('NB', GaussianNB())])"
      ]
     },
     "execution_count": 5,
     "metadata": {},
     "output_type": "execute_result"
    }
   ],
   "source": [
    "# 包含步驟1~4\n",
    "vc.fit(X_train,y_train)"
   ]
  },
  {
   "cell_type": "code",
   "execution_count": 6,
   "id": "0184ccb0-af90-45c2-8d0f-594456fb4221",
   "metadata": {},
   "outputs": [
    {
     "data": {
      "text/plain": [
       "array([2, 1, 0, 2, 0, 2, 0, 1, 1, 1, 2, 1, 1, 1, 1, 0, 1, 1, 0, 0, 2, 1,\n",
       "       0, 0, 2, 0, 0, 1, 1, 0, 2, 1, 0, 2, 2, 1, 0, 2, 1, 1, 2, 0, 2, 0,\n",
       "       0])"
      ]
     },
     "execution_count": 6,
     "metadata": {},
     "output_type": "execute_result"
    }
   ],
   "source": [
    "vc.predict(X_test)"
   ]
  },
  {
   "cell_type": "code",
   "execution_count": 7,
   "id": "52f91fe2-771a-4acf-a0d9-d662f019fd59",
   "metadata": {},
   "outputs": [
    {
     "data": {
      "text/plain": [
       "0.9777777777777777"
      ]
     },
     "execution_count": 7,
     "metadata": {},
     "output_type": "execute_result"
    }
   ],
   "source": [
    "vc.score(X_test,y_test)"
   ]
  },
  {
   "cell_type": "markdown",
   "id": "9289b0a4-da98-4ed1-8ea5-09911d37c874",
   "metadata": {},
   "source": [
    "#### Boosting(我們以下使用的是進化後的Boosting，實作上效果更好)"
   ]
  },
  {
   "cell_type": "code",
   "execution_count": 8,
   "id": "05293748-a08a-4153-a3cb-2de99e166a3c",
   "metadata": {},
   "outputs": [],
   "source": [
    "from sklearn.ensemble import AdaBoostClassifier  # 回歸問題 : AdaBoostRegressor\n",
    "from sklearn.ensemble import GradientBoostingClassifier  # 回歸問題 : GradientBoostingRegressor"
   ]
  },
  {
   "cell_type": "code",
   "execution_count": 9,
   "id": "297baa0c-7d95-4428-adb0-1eddd42d9095",
   "metadata": {},
   "outputs": [
    {
     "data": {
      "text/plain": [
       "0.9111111111111111"
      ]
     },
     "execution_count": 9,
     "metadata": {},
     "output_type": "execute_result"
    }
   ],
   "source": [
    "adb= AdaBoostClassifier()\n",
    "adb.fit(X_train,y_train)\n",
    "adb.predict(X_test)\n",
    "adb.score(X_test,y_test)"
   ]
  },
  {
   "cell_type": "code",
   "execution_count": 10,
   "id": "49e357ac-b2d1-42f6-9093-29a182507ee4",
   "metadata": {},
   "outputs": [
    {
     "data": {
      "text/plain": [
       "0.9777777777777777"
      ]
     },
     "execution_count": 10,
     "metadata": {},
     "output_type": "execute_result"
    }
   ],
   "source": [
    "gb=GradientBoostingClassifier()\n",
    "gb.fit(X_train,y_train)\n",
    "gb.predict(X_test)\n",
    "gb.score(X_test,y_test)"
   ]
  }
 ],
 "metadata": {
  "kernelspec": {
   "display_name": "Python 3.7.9 ('base')",
   "language": "python",
   "name": "python3"
  },
  "language_info": {
   "codemirror_mode": {
    "name": "ipython",
    "version": 3
   },
   "file_extension": ".py",
   "mimetype": "text/x-python",
   "name": "python",
   "nbconvert_exporter": "python",
   "pygments_lexer": "ipython3",
   "version": "3.7.9"
  },
  "vscode": {
   "interpreter": {
    "hash": "bc30f45a0ee3bb283605bb62d26dc81a10ff7c6c6d220b9edda588a614f8ccf9"
   }
  }
 },
 "nbformat": 4,
 "nbformat_minor": 5
}
