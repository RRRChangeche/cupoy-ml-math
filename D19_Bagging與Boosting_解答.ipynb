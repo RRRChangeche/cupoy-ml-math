{
 "cells": [
  {
   "cell_type": "raw",
   "id": "4e89d07a-81aa-454c-8b5f-11c4528c88d1",
   "metadata": {},
   "source": [
    "作業目標 : 熟悉 Bagging 與 Boosting 演算法概念。\n",
    "\n",
    "作業題目 :\n",
    "1. 樣本抽樣方法為 取後不放回/根據前一模型而調整 : Bagging/Boosting\n",
    "2. 目的是希望 Bias/Variance 降低: Boosting/Bagging\n",
    "3. 效率高(可平行計算(彼此間的計算互不影響))/低(不可平行運算(等待前面的計算完成，才能繼續)) : Bagging/Boosting"
   ]
  }
 ],
 "metadata": {
  "kernelspec": {
   "display_name": "Python 3.9.10 64-bit (system)",
   "language": "python",
   "name": "python3"
  },
  "language_info": {
   "codemirror_mode": {
    "name": "ipython",
    "version": 3
   },
   "file_extension": ".py",
   "mimetype": "text/x-python",
   "name": "python",
   "nbconvert_exporter": "python",
   "pygments_lexer": "ipython3",
   "version": "3.9.10"
  },
  "vscode": {
   "interpreter": {
    "hash": "2a8dfe095fce2b5e88c64a2c3ee084c8e0e0d70b23e7b95b1cfb538be294c5c8"
   }
  }
 },
 "nbformat": 4,
 "nbformat_minor": 5
}
