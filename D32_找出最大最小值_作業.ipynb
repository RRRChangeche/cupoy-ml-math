{
 "cells": [
  {
   "cell_type": "raw",
   "id": "bd648b15-d3ab-412c-bc5e-c9292efef6d8",
   "metadata": {},
   "source": [
    "作業目的 : 了解甚麼是極值。\n",
    "    \n",
    "作業題目 : 對於以下 (a)、(b) 函數，「完整」回答以下問題。\n",
    "    1. 極值存在嗎? 若不存在，原因為何?\n",
    "    2. 存在於x=?\n",
    "    3. 極值為多少?"
   ]
  },
  {
   "cell_type": "markdown",
   "id": "67a1e387-3712-4c55-be1c-606d5e6ecd41",
   "metadata": {},
   "source": [
    "(a) 函數 $$f(x)=x^2$$ 定義在 [-2,2]。 \n",
    "\n",
    "(b) 函數 $$g(x)=cos(x)$$定義在整條實數線上。"
   ]
  },
  {
   "cell_type": "raw",
   "id": "94cde6ee-8d0a-4869-8dbd-b16b60d78cf4",
   "metadata": {},
   "source": [
    "(a)\n",
    "1. 存在。\n",
    "2. 且最小值發生於 x = 0。\n",
    "3. 最小值為 0。\n",
    "\n",
    "(b)\n",
    "1. 存在。\n",
    "2. 且最大值發生在 0, 2pi 的整數(包含負數)倍; 最小值發生於 pi的奇數倍。\n",
    "3. 最大值為1; 最小值為-1。"
   ]
  }
 ],
 "metadata": {
  "kernelspec": {
   "display_name": "Python 3.7.9 ('base')",
   "language": "python",
   "name": "python3"
  },
  "language_info": {
   "codemirror_mode": {
    "name": "ipython",
    "version": 3
   },
   "file_extension": ".py",
   "mimetype": "text/x-python",
   "name": "python",
   "nbconvert_exporter": "python",
   "pygments_lexer": "ipython3",
   "version": "3.7.9"
  },
  "vscode": {
   "interpreter": {
    "hash": "bc30f45a0ee3bb283605bb62d26dc81a10ff7c6c6d220b9edda588a614f8ccf9"
   }
  }
 },
 "nbformat": 4,
 "nbformat_minor": 5
}
