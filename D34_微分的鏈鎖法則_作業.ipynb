{
 "cells": [
  {
   "cell_type": "raw",
   "id": "20b75bb9-de62-4122-81f3-db8cd4de7dd7",
   "metadata": {},
   "source": [
    "作業目的 : 熟悉如何拆解函數並利用微分連鎖對變數進行微分。\n",
    "    \n",
    "作業題目 : 利用微分連鎖律並配合下列已給的函數，找出函數 f 在 x=5 的微分值。"
   ]
  },
  {
   "cell_type": "markdown",
   "id": "62edf444-1815-473f-a6cb-f7f4280be1d6",
   "metadata": {},
   "source": [
    "假設一函數 $$f(x)=sin(\\frac{1}{1+e^{-x}})$$"
   ]
  },
  {
   "cell_type": "code",
   "execution_count": 2,
   "id": "da64d98f-07e2-4268-a53a-b1934e8b90da",
   "metadata": {},
   "outputs": [],
   "source": [
    "import numpy as np\n",
    "from numpy import sin"
   ]
  },
  {
   "cell_type": "code",
   "execution_count": 3,
   "id": "dec9ef35-f380-47f2-b638-70f122de7cd2",
   "metadata": {},
   "outputs": [],
   "source": [
    "def f(x):\n",
    "    return -x\n",
    "\n",
    "def g(x):\n",
    "    return 1+np.exp(x)\n",
    "\n",
    "def h(x):\n",
    "    return sin(x)\n",
    "\n",
    "def τ(x):\n",
    "    return 1/x"
   ]
  },
  {
   "cell_type": "code",
   "execution_count": 4,
   "id": "8be442e0-b08e-4977-be11-3161daf6cadd",
   "metadata": {},
   "outputs": [],
   "source": [
    "# 定義微分函數\n",
    "# 底下函數介紹 : f 是要微分的函數; 回傳值為一個函數 f(x) (f 微分後的函數)。\n",
    "\n",
    "def diff(f):\n",
    "    h=0.001\n",
    "    return lambda x : (f(x+h)-f(x))/h"
   ]
  },
  {
   "cell_type": "code",
   "execution_count": 5,
   "id": "9e20afb1-5ae3-4567-8471-a198c92c8619",
   "metadata": {},
   "outputs": [],
   "source": [
    "# dϕ/dh(5) =\n",
    "a = diff(h)(5)\n",
    "\n",
    "# dh/dg(5) =\n",
    "b = diff(τ)(5)\n",
    "\n",
    "# dg/df(5) =\n",
    "c = diff(g)(5)\n",
    "\n",
    "# df/dx(5) =\n",
    "d = diff(f)(5)"
   ]
  },
  {
   "cell_type": "code",
   "execution_count": 6,
   "id": "1e0778a4-2c45-411f-be76-3c5886aed8c2",
   "metadata": {},
   "outputs": [
    {
     "name": "stdout",
     "output_type": "stream",
     "text": [
      "f_prime(10)=1.687\n"
     ]
    }
   ],
   "source": [
    "f_prime_ = a * b * c * d\n",
    "print('f_prime(10)=%.3f'%f_prime_)"
   ]
  }
 ],
 "metadata": {
  "kernelspec": {
   "display_name": "Python 3.7.9 ('base')",
   "language": "python",
   "name": "python3"
  },
  "language_info": {
   "codemirror_mode": {
    "name": "ipython",
    "version": 3
   },
   "file_extension": ".py",
   "mimetype": "text/x-python",
   "name": "python",
   "nbconvert_exporter": "python",
   "pygments_lexer": "ipython3",
   "version": "3.7.9"
  },
  "vscode": {
   "interpreter": {
    "hash": "bc30f45a0ee3bb283605bb62d26dc81a10ff7c6c6d220b9edda588a614f8ccf9"
   }
  }
 },
 "nbformat": 4,
 "nbformat_minor": 5
}
