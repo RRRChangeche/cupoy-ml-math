{
 "cells": [
  {
   "cell_type": "raw",
   "id": "38e0a28a-f754-4096-8079-7c389f4b283d",
   "metadata": {},
   "source": [
    "作業目的 : 了解顯著水準對於假設檢定結果的影響。\n",
    "\n",
    "作業題目 : 把範例中的顯著水準改為 0.1，並下結論。"
   ]
  },
  {
   "cell_type": "markdown",
   "id": "bb2e2354-838d-4ec4-a2cb-cfb31afd19bc",
   "metadata": {},
   "source": [
    "##### $Z_{0.1} = 1.28$ (查表並利用差分法得知)"
   ]
  },
  {
   "cell_type": "code",
   "execution_count": null,
   "id": "af23d1f6-62bd-4469-9bdc-14a649eb9eed",
   "metadata": {},
   "outputs": [],
   "source": [
    "import numpy as np"
   ]
  },
  {
   "cell_type": "code",
   "execution_count": null,
   "id": "0370ab7e-e915-4540-971e-6c66ea0bf8ab",
   "metadata": {},
   "outputs": [],
   "source": [
    "# 計算臨界值\n",
    "mu = 100\n",
    "S = 10\n",
    "ctc_pt = 100 - ???? * (10 / np.sqrt(64))\n",
    "print('臨界值為%.2f'%ctc_pt)"
   ]
  },
  {
   "cell_type": "code",
   "execution_count": null,
   "id": "c99d22f2-6461-48f2-ae20-69d258ad1393",
   "metadata": {},
   "outputs": [],
   "source": [
    "X = 98\n",
    "\n",
    "if X >= ctc_pt:\n",
    "    print('不拒絕虛無假設')\n",
    "else:\n",
    "    print('拒絕虛無假設')"
   ]
  },
  {
   "cell_type": "raw",
   "id": "714e3800-9532-4553-a779-6d9ba5a8d0fe",
   "metadata": {},
   "source": [
    "結論 : ?"
   ]
  }
 ],
 "metadata": {
  "kernelspec": {
   "display_name": "Python 3",
   "language": "python",
   "name": "python3"
  },
  "language_info": {
   "codemirror_mode": {
    "name": "ipython",
    "version": 3
   },
   "file_extension": ".py",
   "mimetype": "text/x-python",
   "name": "python",
   "nbconvert_exporter": "python",
   "pygments_lexer": "ipython3",
   "version": "3.8.5"
  }
 },
 "nbformat": 4,
 "nbformat_minor": 5
}
