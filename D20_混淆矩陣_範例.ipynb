{
 "cells": [
  {
   "cell_type": "markdown",
   "id": "1399f97a-5f33-4c62-a42e-4222252e11ff",
   "metadata": {},
   "source": [
    "### 以每個預測值為閾值畫出分類模型的ROC曲線(假設只有十筆樣本)"
   ]
  },
  {
   "cell_type": "code",
   "execution_count": 1,
   "id": "8ed7f57f-2230-4de0-9343-02a45adffd87",
   "metadata": {},
   "outputs": [],
   "source": [
    "import pandas as pd\n",
    "import numpy as np\n",
    "import matplotlib.pyplot as plt\n",
    "import random"
   ]
  },
  {
   "cell_type": "code",
   "execution_count": 2,
   "id": "ec93846e-f0f9-4118-b7fe-4a7f911f7ad0",
   "metadata": {},
   "outputs": [],
   "source": [
    "df = {'label':[1,0,0,1,1,1,0,0,1,1],\n",
    "    'value':[random.random() for i in range(10)]} #value 為某觀測值"
   ]
  },
  {
   "cell_type": "code",
   "execution_count": 3,
   "id": "3e9b1e75-1e47-475d-871c-a225290fc4cc",
   "metadata": {},
   "outputs": [
    {
     "data": {
      "text/html": [
       "<div>\n",
       "<style scoped>\n",
       "    .dataframe tbody tr th:only-of-type {\n",
       "        vertical-align: middle;\n",
       "    }\n",
       "\n",
       "    .dataframe tbody tr th {\n",
       "        vertical-align: top;\n",
       "    }\n",
       "\n",
       "    .dataframe thead th {\n",
       "        text-align: right;\n",
       "    }\n",
       "</style>\n",
       "<table border=\"1\" class=\"dataframe\">\n",
       "  <thead>\n",
       "    <tr style=\"text-align: right;\">\n",
       "      <th></th>\n",
       "      <th>label</th>\n",
       "      <th>value</th>\n",
       "    </tr>\n",
       "  </thead>\n",
       "  <tbody>\n",
       "    <tr>\n",
       "      <th>0</th>\n",
       "      <td>1</td>\n",
       "      <td>0.491704</td>\n",
       "    </tr>\n",
       "    <tr>\n",
       "      <th>1</th>\n",
       "      <td>0</td>\n",
       "      <td>0.586080</td>\n",
       "    </tr>\n",
       "    <tr>\n",
       "      <th>2</th>\n",
       "      <td>0</td>\n",
       "      <td>0.373195</td>\n",
       "    </tr>\n",
       "    <tr>\n",
       "      <th>3</th>\n",
       "      <td>1</td>\n",
       "      <td>0.129801</td>\n",
       "    </tr>\n",
       "    <tr>\n",
       "      <th>4</th>\n",
       "      <td>1</td>\n",
       "      <td>0.698312</td>\n",
       "    </tr>\n",
       "    <tr>\n",
       "      <th>5</th>\n",
       "      <td>1</td>\n",
       "      <td>0.005410</td>\n",
       "    </tr>\n",
       "    <tr>\n",
       "      <th>6</th>\n",
       "      <td>0</td>\n",
       "      <td>0.773735</td>\n",
       "    </tr>\n",
       "    <tr>\n",
       "      <th>7</th>\n",
       "      <td>0</td>\n",
       "      <td>0.753236</td>\n",
       "    </tr>\n",
       "    <tr>\n",
       "      <th>8</th>\n",
       "      <td>1</td>\n",
       "      <td>0.919106</td>\n",
       "    </tr>\n",
       "    <tr>\n",
       "      <th>9</th>\n",
       "      <td>1</td>\n",
       "      <td>0.163389</td>\n",
       "    </tr>\n",
       "  </tbody>\n",
       "</table>\n",
       "</div>"
      ],
      "text/plain": [
       "   label     value\n",
       "0      1  0.491704\n",
       "1      0  0.586080\n",
       "2      0  0.373195\n",
       "3      1  0.129801\n",
       "4      1  0.698312\n",
       "5      1  0.005410\n",
       "6      0  0.773735\n",
       "7      0  0.753236\n",
       "8      1  0.919106\n",
       "9      1  0.163389"
      ]
     },
     "execution_count": 3,
     "metadata": {},
     "output_type": "execute_result"
    }
   ],
   "source": [
    "data = pd.DataFrame(df)\n",
    "data"
   ]
  },
  {
   "cell_type": "markdown",
   "id": "50f7dcaa-a427-4a8c-a02b-e9378dad31a7",
   "metadata": {},
   "source": [
    "先將觀測值照大小關係排好"
   ]
  },
  {
   "cell_type": "code",
   "execution_count": 4,
   "id": "a85c315a-6b42-49ac-8714-f54afccd89a1",
   "metadata": {},
   "outputs": [
    {
     "data": {
      "text/html": [
       "<div>\n",
       "<style scoped>\n",
       "    .dataframe tbody tr th:only-of-type {\n",
       "        vertical-align: middle;\n",
       "    }\n",
       "\n",
       "    .dataframe tbody tr th {\n",
       "        vertical-align: top;\n",
       "    }\n",
       "\n",
       "    .dataframe thead th {\n",
       "        text-align: right;\n",
       "    }\n",
       "</style>\n",
       "<table border=\"1\" class=\"dataframe\">\n",
       "  <thead>\n",
       "    <tr style=\"text-align: right;\">\n",
       "      <th></th>\n",
       "      <th>label</th>\n",
       "      <th>value</th>\n",
       "    </tr>\n",
       "  </thead>\n",
       "  <tbody>\n",
       "    <tr>\n",
       "      <th>0</th>\n",
       "      <td>1</td>\n",
       "      <td>0.919106</td>\n",
       "    </tr>\n",
       "    <tr>\n",
       "      <th>1</th>\n",
       "      <td>0</td>\n",
       "      <td>0.773735</td>\n",
       "    </tr>\n",
       "    <tr>\n",
       "      <th>2</th>\n",
       "      <td>0</td>\n",
       "      <td>0.753236</td>\n",
       "    </tr>\n",
       "    <tr>\n",
       "      <th>3</th>\n",
       "      <td>1</td>\n",
       "      <td>0.698312</td>\n",
       "    </tr>\n",
       "    <tr>\n",
       "      <th>4</th>\n",
       "      <td>0</td>\n",
       "      <td>0.586080</td>\n",
       "    </tr>\n",
       "    <tr>\n",
       "      <th>5</th>\n",
       "      <td>1</td>\n",
       "      <td>0.491704</td>\n",
       "    </tr>\n",
       "    <tr>\n",
       "      <th>6</th>\n",
       "      <td>0</td>\n",
       "      <td>0.373195</td>\n",
       "    </tr>\n",
       "    <tr>\n",
       "      <th>7</th>\n",
       "      <td>1</td>\n",
       "      <td>0.163389</td>\n",
       "    </tr>\n",
       "    <tr>\n",
       "      <th>8</th>\n",
       "      <td>1</td>\n",
       "      <td>0.129801</td>\n",
       "    </tr>\n",
       "    <tr>\n",
       "      <th>9</th>\n",
       "      <td>1</td>\n",
       "      <td>0.005410</td>\n",
       "    </tr>\n",
       "  </tbody>\n",
       "</table>\n",
       "</div>"
      ],
      "text/plain": [
       "   label     value\n",
       "0      1  0.919106\n",
       "1      0  0.773735\n",
       "2      0  0.753236\n",
       "3      1  0.698312\n",
       "4      0  0.586080\n",
       "5      1  0.491704\n",
       "6      0  0.373195\n",
       "7      1  0.163389\n",
       "8      1  0.129801\n",
       "9      1  0.005410"
      ]
     },
     "execution_count": 4,
     "metadata": {},
     "output_type": "execute_result"
    }
   ],
   "source": [
    "data_new = data.sort_values(by=['value'],ascending=False)\n",
    "data_new.index = [i for i in range(10)]\n",
    "data_new"
   ]
  },
  {
   "cell_type": "code",
   "execution_count": 16,
   "id": "a6494704-46eb-479f-b9a6-b0d45c89020b",
   "metadata": {},
   "outputs": [
    {
     "data": {
      "text/plain": [
       "0    1.000000\n",
       "0    0.919106\n",
       "1    0.773735\n",
       "2    0.753236\n",
       "3    0.698312\n",
       "4    0.586080\n",
       "5    0.491704\n",
       "6    0.373195\n",
       "7    0.163389\n",
       "8    0.129801\n",
       "9    0.005410\n",
       "dtype: float64"
      ]
     },
     "execution_count": 16,
     "metadata": {},
     "output_type": "execute_result"
    }
   ],
   "source": [
    "threshold = pd.concat([pd.Series([1]),data_new.value])\n",
    "threshold"
   ]
  },
  {
   "cell_type": "markdown",
   "id": "dc7f0a0d-b550-492f-bd4a-58bcb1d4a5b4",
   "metadata": {},
   "source": [
    "接下來，要判斷 value 是否大於該閾值(針對每一個閾值)，若 value>threshold，則判斷為陽性(1)，其他為陰性(0)，如此一來，我們能得到我們的(TPR,FPR)。"
   ]
  },
  {
   "cell_type": "code",
   "execution_count": 8,
   "id": "7aa18832-156c-4770-8871-6e03722a5eff",
   "metadata": {},
   "outputs": [],
   "source": [
    "# 定義一個計算 TPR 與 FPR 的函數\n",
    "\n",
    "def ROC_point(P,N,L): # P 為判斷為陽性(=1)的index, N 為判斷為陰性(=0)的 index, L 為樣本中的 label 欄位\n",
    "    \n",
    "    TP = 0\n",
    "    FP = 0\n",
    "    for i in P:\n",
    "        if L[i]==1:\n",
    "            TP+=1\n",
    "        else:\n",
    "            FP+=1\n",
    "    \n",
    "    TN = 0\n",
    "    FN = 0\n",
    "    for i in N:\n",
    "        if L[i]==0:\n",
    "            TN+=1\n",
    "        else:\n",
    "            FN+=1\n",
    "    \n",
    "    TPR = TP/(TP+FN)\n",
    "    FPR = FP/(FP+TN)\n",
    "    \n",
    "    return TPR,FPR"
   ]
  },
  {
   "cell_type": "code",
   "execution_count": 9,
   "id": "6b5faec3-150f-4c28-a736-5eb336f059f2",
   "metadata": {},
   "outputs": [],
   "source": [
    "# 找出那些要拿來描繪 ROC曲線 上的點\n",
    "\n",
    "ROC_points_x = []\n",
    "ROC_points_y = []\n",
    "\n",
    "for i in threshold:\n",
    "    \n",
    "    Positive=[]  # 存放陽性的 index\n",
    "    Negative=[]  # 存放陰性的 index\n",
    "    \n",
    "    # 對於每個門檻值分別計算 FPR,TPR\n",
    "    for j in range(len(data_new['value'])):\n",
    "        \n",
    "        if data_new['value'][j] >= i:    # value >= threshold\n",
    "            Positive.append(j)\n",
    "        else:                            # value < threshold\n",
    "            Negative.append(j)\n",
    "    \n",
    "#     print('%.2f:Pos'%i,Positive,'%.2f:Neg'%i,Negative)\n",
    "    \n",
    "    (TPR,FPR) = ROC_point(Positive, Negative, data_new['label'])\n",
    "    \n",
    "    ROC_points_x.append(FPR)\n",
    "    ROC_points_y.append(TPR)"
   ]
  },
  {
   "cell_type": "code",
   "execution_count": 10,
   "id": "166c6024-b17c-4d21-b390-dde9ec90531a",
   "metadata": {},
   "outputs": [
    {
     "data": {
      "image/png": "[encoded data removed]",
      "text/plain": [
       "<Figure size 432x288 with 1 Axes>"
      ]
     },
     "metadata": {
      "needs_background": "light"
     },
     "output_type": "display_data"
    }
   ],
   "source": [
    "# 畫圖\n",
    "plt.plot(ROC_points_x,ROC_points_y)\n",
    "\n",
    "x=np.linspace(0,1)\n",
    "y=x\n",
    "plt.plot(x,y,'--')\n",
    "\n",
    "new_ticks = np.linspace(0,1,6)\n",
    "plt.xticks(new_ticks)\n",
    "plt.yticks(new_ticks)\n",
    "plt.xlabel('FPR')\n",
    "plt.ylabel('TPR')\n",
    "plt.title('ROC_curve')\n",
    "plt.show()"
   ]
  },
  {
   "cell_type": "markdown",
   "id": "00710a69-b7b6-441c-8064-3213ba835def",
   "metadata": {},
   "source": [
    "### 直接使用 sklearn.metrics.roc_curve"
   ]
  },
  {
   "cell_type": "code",
   "execution_count": 11,
   "id": "2667aaff-171d-46d7-b4e1-39afe20a2f0c",
   "metadata": {},
   "outputs": [],
   "source": [
    "from sklearn import metrics"
   ]
  },
  {
   "cell_type": "code",
   "execution_count": 12,
   "id": "7ed073eb-85e4-48da-886f-76b6074f3e4e",
   "metadata": {},
   "outputs": [],
   "source": [
    "label=data.label\n",
    "value=data.value\n",
    "fpr, tpr, thresholds = metrics.roc_curve(label, value, pos_label=1)"
   ]
  },
  {
   "cell_type": "code",
   "execution_count": 13,
   "id": "0268023a-a1d9-480d-9b26-a0198efdd8ac",
   "metadata": {},
   "outputs": [
    {
     "data": {
      "image/png": "[encoded data removed]",
      "text/plain": [
       "<Figure size 432x288 with 1 Axes>"
      ]
     },
     "metadata": {
      "needs_background": "light"
     },
     "output_type": "display_data"
    }
   ],
   "source": [
    "# 畫圖\n",
    "plt.plot(fpr,tpr)\n",
    "\n",
    "x=np.linspace(0,1)\n",
    "y=x\n",
    "plt.plot(x,y,'--')\n",
    "\n",
    "new_ticks = np.linspace(0,1,6)\n",
    "plt.xticks(new_ticks)\n",
    "plt.yticks(new_ticks)\n",
    "plt.xlabel('FPR')\n",
    "plt.ylabel('TPR')\n",
    "plt.title('ROC_curve')\n",
    "plt.show()"
   ]
  }
 ],
 "metadata": {
  "kernelspec": {
   "display_name": "Python 3.7.9 ('base')",
   "language": "python",
   "name": "python3"
  },
  "language_info": {
   "codemirror_mode": {
    "name": "ipython",
    "version": 3
   },
   "file_extension": ".py",
   "mimetype": "text/x-python",
   "name": "python",
   "nbconvert_exporter": "python",
   "pygments_lexer": "ipython3",
   "version": "3.7.9"
  },
  "vscode": {
   "interpreter": {
    "hash": "bc30f45a0ee3bb283605bb62d26dc81a10ff7c6c6d220b9edda588a614f8ccf9"
   }
  }
 },
 "nbformat": 4,
 "nbformat_minor": 5
}
