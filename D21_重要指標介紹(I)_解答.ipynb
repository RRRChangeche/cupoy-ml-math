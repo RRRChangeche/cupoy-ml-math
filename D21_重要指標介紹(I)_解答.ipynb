{
 "cells": [
  {
   "cell_type": "raw",
   "id": "1cfb47b9-ccf2-44aa-a303-cee56a48d23b",
   "metadata": {},
   "source": [
    "作業目的 : 清楚 entropy 的意義。\n",
    "    \n",
    "作業題目 : \n",
    "    1. 把範例的例子稍加修改，請在計算前先回答此時的 entropy 會比範例中算出的 entropy 來的大/小 ? \n",
    "    2. 請計算 entropy，驗證 你的回答。"
   ]
  },
  {
   "cell_type": "raw",
   "id": "cf056883-fd7f-4417-901b-545360ab5080",
   "metadata": {},
   "source": [
    "事件描述　：　\n",
    "有一賽事總共 16 支隊伍參賽，假設每一隊拿冠軍的機率相等且某兩隊伍名稱分別為 A 和 B。\n",
    "已知 A 和 B 在過去的 32 次交手中， A 贏了 31 場比賽， B 贏了 1 場比賽。\n",
    "那麼，A 與 B 的比賽結果的 entropy(information entropy) 為多少呢?"
   ]
  },
  {
   "cell_type": "raw",
   "id": "1cce8779-25c0-4465-9fcb-bc8a021973e1",
   "metadata": {},
   "source": [
    "此時的 entropy 會比範例中來的小，原因為此結果較範例容易猜測。"
   ]
  },
  {
   "cell_type": "code",
   "execution_count": 3,
   "id": "b68c20e1-cb90-43b2-bc5c-98a2ae56235d",
   "metadata": {},
   "outputs": [
    {
     "data": {
      "text/plain": [
       "0.20062232431271465"
      ]
     },
     "execution_count": 3,
     "metadata": {},
     "output_type": "execute_result"
    }
   ],
   "source": [
    "import numpy as np\n",
    "\n",
    "P_X1 = 31/32\n",
    "P_X2 = 1/32\n",
    "\n",
    "H = - ( P_X1*np.log2(P_X1) + P_X2*np.log2(P_X2) )\n",
    "H"
   ]
  }
 ],
 "metadata": {
  "kernelspec": {
   "display_name": "Python 3.9.10 64-bit (system)",
   "language": "python",
   "name": "python3"
  },
  "language_info": {
   "codemirror_mode": {
    "name": "ipython",
    "version": 3
   },
   "file_extension": ".py",
   "mimetype": "text/x-python",
   "name": "python",
   "nbconvert_exporter": "python",
   "pygments_lexer": "ipython3",
   "version": "3.9.10"
  },
  "vscode": {
   "interpreter": {
    "hash": "2a8dfe095fce2b5e88c64a2c3ee084c8e0e0d70b23e7b95b1cfb538be294c5c8"
   }
  }
 },
 "nbformat": 4,
 "nbformat_minor": 5
}
